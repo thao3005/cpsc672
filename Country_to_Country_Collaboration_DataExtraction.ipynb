{
  "nbformat": 4,
  "nbformat_minor": 0,
  "metadata": {
    "colab": {
      "provenance": []
    },
    "kernelspec": {
      "name": "python3",
      "display_name": "Python 3"
    },
    "language_info": {
      "name": "python"
    }
  },
  "cells": [
    {
      "cell_type": "code",
      "execution_count": null,
      "metadata": {
        "id": "OqZefBW0y9Fw"
      },
      "outputs": [],
      "source": [
        "import pandas as pd\n",
        "\n",
        "researcher_nodes = pd.read_excel(\"nodes_undirected.xlsx\")\n",
        "coauthorship_edges = pd.read_excel(\"edges_undirected.xlsx\")\n",
        "\n",
        "# Parse the list of country codes associated with each researcher\n",
        "# Splits semicolon-separated country codes into lists\n",
        "researcher_nodes[\"country_list\"] = researcher_nodes[\"Country Codes\"].fillna(\"\").apply(\n",
        "    lambda x: [c.strip() for c in x.split(\";\") if c.strip()]\n",
        ")\n",
        "\n",
        "# Create a dictionary mapping each researcher (node) to their list of countries\n",
        "author_to_countries = dict(zip(researcher_nodes[\"Id\"], researcher_nodes[\"country_list\"]))\n",
        "\n",
        "# Define a function that takes an edge (Source–Target) and returns all valid\n",
        "# cross-country collaboration pairs (e.g., ('US', 'GB')) for that co-authorship\n",
        "def extract_country_pairs(edge_row):\n",
        "    src_countries = author_to_countries.get(edge_row[\"Source\"], [])\n",
        "    tgt_countries = author_to_countries.get(edge_row[\"Target\"], [])\n",
        "    return [tuple(sorted((src, tgt))) for src in src_countries for tgt in tgt_countries if src != tgt]\n",
        "\n",
        "# Apply the extraction function to all edges\n",
        "coauthorship_edges[\"country_pairs\"] = coauthorship_edges.apply(extract_country_pairs, axis=1)\n",
        "\n",
        "# Explode the resulting list of country pairs into separate rows\n",
        "country_collab_rows = coauthorship_edges.explode(\"country_pairs\").dropna()\n",
        "\n",
        "# Split each country pair tuple into two separate columns\n",
        "country_collab_rows[[\"Country_1\", \"Country_2\"]] = pd.DataFrame(\n",
        "    country_collab_rows[\"country_pairs\"].tolist(), index=country_collab_rows.index\n",
        ")\n",
        "\n",
        "# Group by each country pair and sum their edge weights (number of shared co-authorships)\n",
        "aggregated_country_edges = (\n",
        "    country_collab_rows.groupby([\"Country_1\", \"Country_2\"])[\"Weight\"].sum().reset_index()\n",
        ")\n",
        "\n",
        "aggregated_country_edges.to_csv(\"country_collaborations.csv\", index=False)\n"
      ]
    }
  ]
}