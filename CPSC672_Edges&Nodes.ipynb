{
  "nbformat": 4,
  "nbformat_minor": 0,
  "metadata": {
    "colab": {
      "provenance": []
    },
    "kernelspec": {
      "name": "python3",
      "display_name": "Python 3"
    },
    "language_info": {
      "name": "python"
    }
  },
  "cells": [
    {
      "cell_type": "code",
      "source": [
        "import chardet\n",
        "\n",
        "file_path = \"/content/new_dataset.csv\"\n",
        "\n",
        "with open(file_path, \"rb\") as f:\n",
        "    result = chardet.detect(f.read(100000))\n",
        "    print(\"Detected encoding:\", result[\"encoding\"])\n"
      ],
      "metadata": {
        "colab": {
          "base_uri": "https://localhost:8080/"
        },
        "id": "8hRTwxqOV7My",
        "outputId": "7f8e8fcd-d8c7-4b01-dda3-f49bc5c02fb7"
      },
      "execution_count": null,
      "outputs": [
        {
          "output_type": "stream",
          "name": "stdout",
          "text": [
            "Detected encoding: UTF-8-SIG\n"
          ]
        }
      ]
    },
    {
      "cell_type": "code",
      "source": [
        "! pip install pycountry"
      ],
      "metadata": {
        "colab": {
          "base_uri": "https://localhost:8080/"
        },
        "id": "Img16ZOYV7cs",
        "outputId": "c589c9b7-52d0-4dde-d517-03fd3a8d0ea9"
      },
      "execution_count": null,
      "outputs": [
        {
          "output_type": "stream",
          "name": "stdout",
          "text": [
            "Collecting pycountry\n",
            "  Downloading pycountry-24.6.1-py3-none-any.whl.metadata (12 kB)\n",
            "Downloading pycountry-24.6.1-py3-none-any.whl (6.3 MB)\n",
            "\u001b[2K   \u001b[90m━━━━━━━━━━━━━━━━━━━━━━━━━━━━━━━━━━━━━━━━\u001b[0m \u001b[32m6.3/6.3 MB\u001b[0m \u001b[31m30.2 MB/s\u001b[0m eta \u001b[36m0:00:00\u001b[0m\n",
            "\u001b[?25hInstalling collected packages: pycountry\n",
            "Successfully installed pycountry-24.6.1\n"
          ]
        }
      ]
    },
    {
      "cell_type": "code",
      "execution_count": null,
      "metadata": {
        "id": "_FLdFq-YRplS"
      },
      "outputs": [],
      "source": [
        "import csv\n",
        "import ast\n",
        "\n",
        "INPUT_FILE = 'new_dataset.csv'\n",
        "EDGES_FILE = 'edges_undirected.csv'\n",
        "NODES_FILE = 'nodes_undirected.csv'\n",
        "\n",
        "pair_collab_count = {}\n",
        "\n",
        "nodes = {}\n",
        "\n",
        "def update_node_attributes(author, display_name, affiliations_str, country_str, works_count, cited_by_count):\n",
        "    if author not in nodes:\n",
        "        nodes[author] = {\n",
        "            \"Display Name\": display_name.strip() if display_name else \"\",\n",
        "            \"Affiliations\": set(),\n",
        "            \"Country Codes\": set(),\n",
        "            \"Works Count\": 0,\n",
        "            \"Cited By Count\": 0\n",
        "        }\n",
        "\n",
        "    if affiliations_str:\n",
        "        for aff in affiliations_str.split(';'):\n",
        "            aff = aff.strip()\n",
        "            if aff:\n",
        "                nodes[author][\"Affiliations\"].add(aff)\n",
        "\n",
        "    if country_str:\n",
        "        for code in country_str.split(';'):\n",
        "            code = code.strip()\n",
        "            if code:\n",
        "                nodes[author][\"Country Codes\"].add(code)\n",
        "\n",
        "    try:\n",
        "        nodes[author][\"Works Count\"] = int(works_count)\n",
        "    except (ValueError, TypeError):\n",
        "        pass\n",
        "    try:\n",
        "        nodes[author][\"Cited By Count\"] = int(cited_by_count)\n",
        "    except (ValueError, TypeError):\n",
        "        pass\n",
        "\n",
        "with open(INPUT_FILE, 'r', encoding='utf-8-sig') as f:\n",
        "    reader = csv.DictReader(f)\n",
        "\n",
        "    for row in reader:\n",
        "        author_queried = row.get(\"Author Queried\", \"\").strip()\n",
        "        if not author_queried:\n",
        "            continue\n",
        "\n",
        "        display_name = row.get(\"Display Name (Best Match)\", \"\")\n",
        "        affiliations = row.get(\"Affiliations\", \"\")\n",
        "        country_codes = row.get(\"Country Codes\", \"\")\n",
        "        works_count = row.get(\"Works Count\", \"\")\n",
        "        cited_by_count = row.get(\"Cited By Count\", \"\")\n",
        "\n",
        "        update_node_attributes(author_queried, display_name, affiliations, country_codes, works_count, cited_by_count)\n",
        "\n",
        "        coauthors_str = row.get(\"Coauthor Collaboration Details\", \"\").strip()\n",
        "        if not coauthors_str or coauthors_str == \"{}\":\n",
        "            continue\n",
        "\n",
        "        try:\n",
        "            coauthors_dict = ast.literal_eval(coauthors_str)\n",
        "        except Exception as e:\n",
        "            print(f\"Error parsing coauthor details for {author_queried}: {e}\")\n",
        "            continue\n",
        "\n",
        "        if not coauthors_dict:\n",
        "            continue\n",
        "\n",
        "        for coauthor_name, collab_list in coauthors_dict.items():\n",
        "            coauthor_name = coauthor_name.strip()\n",
        "            if not coauthor_name or not collab_list:\n",
        "                continue\n",
        "\n",
        "            if coauthor_name not in nodes:\n",
        "                nodes[coauthor_name] = {\n",
        "                    \"Display Name\": \"\",\n",
        "                    \"Affiliations\": set(),\n",
        "                    \"Country Codes\": set(),\n",
        "                    \"Works Count\": 0,\n",
        "                    \"Cited By Count\": 0\n",
        "                }\n",
        "\n",
        "            pair_key = tuple(sorted([author_queried, coauthor_name]))\n",
        "            if author_queried == pair_key[0]:\n",
        "                count = len(collab_list)\n",
        "                pair_collab_count[pair_key] = pair_collab_count.get(pair_key, 0) + count\n",
        "\n",
        "with open(EDGES_FILE, 'w', newline='', encoding='utf-8-sig') as f:\n",
        "    writer = csv.writer(f)\n",
        "    writer.writerow([\"Source\", \"Target\", \"Weight\"])\n",
        "    for (author1, author2), count in pair_collab_count.items():\n",
        "        writer.writerow([author1, author2, count])\n",
        "\n",
        "with open(NODES_FILE, 'w', newline='', encoding='utf-8-sig') as f:\n",
        "    writer = csv.writer(f)\n",
        "    writer.writerow([\n",
        "        \"Id\", \"Label\", \"Display Name\", \"Affiliations\",\n",
        "        \"Country Codes\", \"Works Count\", \"Cited By Count\"\n",
        "    ])\n",
        "    for node, attrs in nodes.items():\n",
        "        affiliations_str = \"; \".join(sorted(attrs[\"Affiliations\"]))\n",
        "        country_codes_str = \"; \".join(sorted(attrs[\"Country Codes\"]))\n",
        "        writer.writerow([\n",
        "            node, node, attrs[\"Display Name\"], affiliations_str,\n",
        "            country_codes_str, attrs[\"Works Count\"], attrs[\"Cited By Count\"]\n",
        "        ])\n"
      ]
    }
  ]
}